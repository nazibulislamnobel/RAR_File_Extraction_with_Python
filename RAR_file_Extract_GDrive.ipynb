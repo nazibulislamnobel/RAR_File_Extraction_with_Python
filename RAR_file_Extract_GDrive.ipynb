{
  "nbformat": 4,
  "nbformat_minor": 0,
  "metadata": {
    "colab": {
      "provenance": [],
      "machine_shape": "hm"
    },
    "kernelspec": {
      "name": "python3",
      "display_name": "Python 3"
    },
    "language_info": {
      "name": "python"
    }
  },
  "cells": [
    {
      "cell_type": "code",
      "source": [
        "import os\n",
        "from rarfile import RarFile\n",
        "\n",
        "google_drive_path = '/content/drive/MyDrive'\n",
        "rar_file_name = 'Images 13841 - 26489.rar'\n",
        "\n",
        "rar_file_path = os.path.join(google_drive_path, rar_file_name)\n",
        "\n",
        "extraction_folder_name = 'your_extraction_folder'\n",
        "\n",
        "extraction_folder_path = os.path.join(google_drive_path, extraction_folder_name)\n",
        "\n",
        "os.makedirs(extraction_folder_path, exist_ok=True)\n",
        "\n",
        "with RarFile(rar_file_path, 'r') as rar_file:\n",
        "    rar_file.extractall(extraction_folder_path)\n",
        "\n",
        "print(f\"Extracted contents to: {extraction_folder_path}\")"
      ],
      "metadata": {
        "id": "iC9QPCCvdxDB"
      },
      "execution_count": null,
      "outputs": []
    },
    {
      "cell_type": "code",
      "source": [],
      "metadata": {
        "id": "98b29zuLeDv8"
      },
      "execution_count": null,
      "outputs": []
    }
  ]
}